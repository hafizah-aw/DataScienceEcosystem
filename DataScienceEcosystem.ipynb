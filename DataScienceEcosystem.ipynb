{
 "cells": [
  {
   "cell_type": "markdown",
   "id": "93ad5039-deac-4697-afa7-eed116f8f2e5",
   "metadata": {},
   "source": [
    "# Data Science Tools and Ecosystem"
   ]
  },
  {
   "cell_type": "markdown",
   "id": "4eb7e6bb-9d53-412a-a380-21206e743c22",
   "metadata": {},
   "source": [
    "In this notebook, Data Science Tools and Ecosystem are summarized."
   ]
  },
  {
   "cell_type": "markdown",
   "id": "5f35da63-13cd-47bb-b3be-f7e001d6a86e",
   "metadata": {},
   "source": [
    "**Objectives:**\n",
    "- List popular languages for Data Science\n",
    "- List common Data Science libraries\n",
    "- List popular interactive development environment tools for Data Science\n",
    "- Show examples of arithmetic expressions using Python"
   ]
  },
  {
   "cell_type": "markdown",
   "id": "59a2ac4a-24bf-4528-ab61-202663fbf7d6",
   "metadata": {},
   "source": [
    "## 1. Languages of Data Science"
   ]
  },
  {
   "cell_type": "markdown",
   "id": "e98552f7-bb33-4d01-9a65-3ab6baa42822",
   "metadata": {
    "tags": []
   },
   "source": [
    "Some of the popular languages that Data Scientists use are:"
   ]
  },
  {
   "cell_type": "markdown",
   "id": "b3a5b728-e38c-4089-9702-beff19374df9",
   "metadata": {},
   "source": [
    "1. Python\n",
    "2. R\n",
    "3. Julia"
   ]
  },
  {
   "cell_type": "markdown",
   "id": "70362b66-13d3-4794-a585-d552a494ffe1",
   "metadata": {
    "tags": []
   },
   "source": [
    "## 2. Data Science Libraries"
   ]
  },
  {
   "cell_type": "markdown",
   "id": "78a671b6-1c9f-4488-9315-b000b0711a15",
   "metadata": {
    "tags": []
   },
   "source": [
    "Some of the commonly used libraries used by Data Scientists include:"
   ]
  },
  {
   "cell_type": "markdown",
   "id": "bfab533f-1252-4704-8ed5-2fd36d303ba3",
   "metadata": {},
   "source": [
    "1. NumPy\n",
    "2. Pandas\n",
    "3. matplotlib"
   ]
  },
  {
   "cell_type": "markdown",
   "id": "aab79c2a-5f41-46a4-b57a-681ae096c054",
   "metadata": {},
   "source": [
    "## 3. Data Science Tools"
   ]
  },
  {
   "cell_type": "markdown",
   "id": "e5dc9417-9c8a-4f87-8171-bc143f19081e",
   "metadata": {},
   "source": [
    "| Data Science Tools | \n",
    "|:------------------:|\n",
    "|  Jupyter Notebook  |\n",
    "|  RStudio           |\n",
    "|  IBM Watson Studio |"
   ]
  },
  {
   "cell_type": "markdown",
   "id": "6d0a7f90-6abc-4a17-a8c9-8b23f9663391",
   "metadata": {},
   "source": [
    "## 4. Arithmetic Expressions in Python"
   ]
  },
  {
   "cell_type": "markdown",
   "id": "4bb92e35-a6ed-4229-8ed0-e80561a6f10b",
   "metadata": {},
   "source": [
    "### Below are a few examples of evaluating arithmetic expressions in Python."
   ]
  },
  {
   "cell_type": "code",
   "execution_count": 1,
   "id": "511dbfd2-7ff2-4b2c-8e81-dc3432bd5988",
   "metadata": {
    "tags": []
   },
   "outputs": [
    {
     "data": {
      "text/plain": [
       "17"
      ]
     },
     "execution_count": 1,
     "metadata": {},
     "output_type": "execute_result"
    }
   ],
   "source": [
    "# This a simple arithmetic expression to mutiply then add integers.\n",
    "(3*4)+5"
   ]
  },
  {
   "cell_type": "code",
   "execution_count": 1,
   "id": "8e9a1cc1-e1dd-43f5-961e-8fb1f23b2224",
   "metadata": {
    "tags": []
   },
   "outputs": [
    {
     "name": "stdout",
     "output_type": "stream",
     "text": [
      "Hours= 3.3333333333333335\n"
     ]
    }
   ],
   "source": [
    "# This is an example of converting 200 minutes to hours by diving by 60.\n",
    "\n",
    "min=200\n",
    "h=min/60\n",
    "print(\"Hours=\",h)"
   ]
  },
  {
   "cell_type": "code",
   "execution_count": null,
   "id": "d03d0609-e819-49a6-b281-532b7ab18b0a",
   "metadata": {},
   "outputs": [],
   "source": []
  },
  {
   "cell_type": "markdown",
   "id": "9a9e79c9-7029-4420-88ea-9197d97bbc52",
   "metadata": {},
   "source": [
    "## Author\n",
    "Hafizah Abdul Wahid"
   ]
  }
 ],
 "metadata": {
  "kernelspec": {
   "display_name": "Python",
   "language": "python",
   "name": "conda-env-python-py"
  },
  "language_info": {
   "codemirror_mode": {
    "name": "ipython",
    "version": 3
   },
   "file_extension": ".py",
   "mimetype": "text/x-python",
   "name": "python",
   "nbconvert_exporter": "python",
   "pygments_lexer": "ipython3",
   "version": "3.7.12"
  }
 },
 "nbformat": 4,
 "nbformat_minor": 5
}
